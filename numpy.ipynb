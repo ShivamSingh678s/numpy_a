{
  "nbformat": 4,
  "nbformat_minor": 0,
  "metadata": {
    "colab": {
      "provenance": []
    },
    "kernelspec": {
      "name": "python3",
      "display_name": "Python 3"
    },
    "language_info": {
      "name": "python"
    }
  },
  "cells": [
    {
      "cell_type": "markdown",
      "source": [
        "1. Explain the purpose and advantages of NumPy in scientific computing and data analysis. How does it\n",
        "enhance Python's capabilities for numerical operations?\n",
        "\n",
        "\n"
      ],
      "metadata": {
        "id": "yl0WJVHgDP1u"
      }
    },
    {
      "cell_type": "markdown",
      "source": [
        "Answer - Purpose of NumPy\n",
        "\n",
        "Efficient Data Storage and Manipulation - NumPy provides an ndarray object, which is a powerful data structure for efficiently storing large datasets. Unlike Python's built-in lists, NumPy arrays are homogeneous.\n",
        "\n",
        "Mathematical and Statistical Functions - NumPy includes a wide range of mathematical, statistical, and linear algebra functions that operate on arrays.\n",
        "\n",
        "Advantages of NumPy\n",
        "\n",
        "Speed - NumPy operations are generally faster than equivalent operations in pure Python. This is because NumPy operations are implemented in C and C++, which are compiled languages, and they are optimized for performance.\n",
        "\n",
        "Memory Efficiency - NumPy arrays are more memory-efficient than Python lists because they store elements of the same type, reducing the overhead associated with dynamic typing in Python.\n",
        "\n",
        "Multi-Dimensional Arrays: NumPy’s support for multi-dimensional arrays allows for complex data representations like matrices, tensors, and higher-dimensional data structures, which are crucial in fields like machine learning, physics, and engineering.\n",
        "\n",
        "Integration with Other Libraries: NumPy is the foundation for many other scientific computing libraries in Python, such as SciPy, pandas, Matplotlib, and scikit-learn.\n",
        "\n",
        "\n",
        "Enhancing Python's Capabilities\n",
        "\n",
        "High-Performance Operations: NumPy operations on arrays are significantly faster than operations on Python lists or using loops.\n",
        "\n",
        "Ease of Use: It simplifies complex mathematical operations, making Python more accessible for scientific computing.\n",
        "\n",
        "Cross-Language Integration: NumPy serves as a bridge between Python and lower-level languages like C/C++, enabling the use of high-performance libraries in Python."
      ],
      "metadata": {
        "id": "-nbZvajhlMCN"
      }
    },
    {
      "cell_type": "markdown",
      "source": [
        "2. Compare and contrast np.mean() and np.average() functions in NumPy. When would you use one over the\n",
        "other?"
      ],
      "metadata": {
        "id": "CuGORMgfmd0g"
      }
    },
    {
      "cell_type": "markdown",
      "source": [
        "np.mean() - Computes the arithmetic mean (average) of the elements along the specified axis.\n",
        "it is use as - np.mean(a, axis=None, dtype=None, out=None, keepdims=<no value>)\n",
        "\n",
        "When you need to calculate the simple arithmetic mean of an array, and all elements should contribute equally.\n",
        "When you do not need to consider different weights for the elements.\n",
        "It's straightforward and typically faster when no weighting is needed."
      ],
      "metadata": {
        "id": "0tJWKgWwmlLo"
      }
    },
    {
      "cell_type": "code",
      "source": [
        "import numpy as np\n",
        "data = np.array([1, 2, 3, 4, 5])\n",
        "mean_value = np.mean(data)\n",
        "print(mean_value)\n"
      ],
      "metadata": {
        "colab": {
          "base_uri": "https://localhost:8080/"
        },
        "id": "sGH5gQBdZjuI",
        "outputId": "d189ac9e-d189-4b26-dd0f-788802b5c6bc"
      },
      "execution_count": null,
      "outputs": [
        {
          "output_type": "stream",
          "name": "stdout",
          "text": [
            "3.0\n"
          ]
        }
      ]
    },
    {
      "cell_type": "markdown",
      "source": [
        "np.average() -Computes the weighted average of the elements along the specified axis. If no weights are provided, it behaves like np.mean()\n",
        "\n",
        "Usage - np.average(a, axis=None, weights=None, returned=False)\n",
        "\n",
        "When you need to calculate a weighted average, where different elements should contribute differently based on their importance.\n",
        "When you require both the weighted average and the sum of the weights in your calculation.\n",
        "When you want more flexibility in how the average is computed."
      ],
      "metadata": {
        "id": "Xviwb48TaI-B"
      }
    },
    {
      "cell_type": "code",
      "source": [
        "import numpy as np\n",
        "data = np.array([1, 2, 3, 4, 5])\n",
        "weights = np.array([1, 1, 1, 2, 2])\n",
        "weighted_average = np.average(data, weights=weights)\n",
        "print(weighted_average)\n"
      ],
      "metadata": {
        "colab": {
          "base_uri": "https://localhost:8080/"
        },
        "id": "uHVG9WBYZlE4",
        "outputId": "29eaf652-b7e2-4ffb-b6f5-0de4d0be9369"
      },
      "execution_count": null,
      "outputs": [
        {
          "output_type": "stream",
          "name": "stdout",
          "text": [
            "3.4285714285714284\n"
          ]
        }
      ]
    },
    {
      "cell_type": "markdown",
      "source": [
        "3. Describe the methods for reversing a NumPy array along different axes. Provide examples for 1D and 2D\n",
        "arrays."
      ],
      "metadata": {
        "id": "_Tc0dM9watBa"
      }
    },
    {
      "cell_type": "markdown",
      "source": [
        "Answer - Reversing a NumPy array can be achieved in different ways, depending on whether you want to reverse the array along a specific axis or the entire array. Below are the methods to reverse a NumPy array along different axes, with examples for both 1D and 2D arrays.\n",
        "\n",
        "Reversing a 1D Array - A 1D array is essentially a list of elements. Reversing it means reversing the order of elements."
      ],
      "metadata": {
        "id": "uelFzYkqauzz"
      }
    },
    {
      "cell_type": "code",
      "source": [
        "import numpy as np\n",
        "\n",
        "arr_1d = np.array([1, 2, 3, 4, 5])\n",
        "\n",
        "reversed_1d = arr_1d[::-1]\n",
        "print(reversed_1d)\n"
      ],
      "metadata": {
        "colab": {
          "base_uri": "https://localhost:8080/"
        },
        "id": "FZaxnlL3bG5I",
        "outputId": "a180150a-23eb-4e3d-fb76-9927037266cc"
      },
      "execution_count": null,
      "outputs": [
        {
          "output_type": "stream",
          "name": "stdout",
          "text": [
            "[5 4 3 2 1]\n"
          ]
        }
      ]
    },
    {
      "cell_type": "markdown",
      "source": [
        " Reversing a 2D Array - A 2D array is essentially a matrix, so reversing can occur along different axes\n",
        "\n",
        " Axis 0: Reverses the rows (flips the array vertically).\n",
        "Axis 1: Reverses the columns (flips the array horizontally)."
      ],
      "metadata": {
        "id": "XuiwTvCqbVCE"
      }
    },
    {
      "cell_type": "code",
      "source": [
        "\n",
        "arr_2d = np.array([[1, 2, 3],\n",
        "                   [4, 5, 6],\n",
        "                   [7, 8, 9]])\n",
        "\n",
        "reversed_2d_axis0 = arr_2d[::-1, :]\n",
        "print(reversed_2d_axis0)\n"
      ],
      "metadata": {
        "colab": {
          "base_uri": "https://localhost:8080/"
        },
        "id": "D0QlrHTNbkQd",
        "outputId": "30c19b3e-1831-49b6-9516-7ed863e2d516"
      },
      "execution_count": null,
      "outputs": [
        {
          "output_type": "stream",
          "name": "stdout",
          "text": [
            "[[7 8 9]\n",
            " [4 5 6]\n",
            " [1 2 3]]\n"
          ]
        }
      ]
    },
    {
      "cell_type": "markdown",
      "source": [
        "4. How can you determine the data type of elements in a NumPy array? Discuss the importance of data types\n",
        "in memory management and performance"
      ],
      "metadata": {
        "id": "dPWxC7LDbvsD"
      }
    },
    {
      "cell_type": "markdown",
      "source": [
        "Answer - In NumPy, you can determine the data type of the elements in an array using the dtype attribute. The dtype attribute returns an object describing the type of the elements in the array.\n"
      ],
      "metadata": {
        "id": "A9ySj00FcHt_"
      }
    },
    {
      "cell_type": "code",
      "source": [
        "import numpy as np\n",
        "\n",
        "arr = np.array([1, 2, 3])\n",
        "\n",
        "print(arr.dtype)\n",
        "\n",
        "arr_float = np.array([1.1, 2.2, 3.3])\n",
        "\n",
        "print(arr_float.dtype)\n"
      ],
      "metadata": {
        "colab": {
          "base_uri": "https://localhost:8080/"
        },
        "id": "QT8NGfEkcNPj",
        "outputId": "28cc76f6-3da7-4c82-db46-3be1d6f16fc0"
      },
      "execution_count": null,
      "outputs": [
        {
          "output_type": "stream",
          "name": "stdout",
          "text": [
            "int64\n",
            "float64\n"
          ]
        }
      ]
    },
    {
      "cell_type": "markdown",
      "source": [
        " Memory Management\n",
        "Fixed Size and Memory Efficiency - NumPy arrays are homogeneously typed, meaning all elements in the array have the same data type. This allows NumPy to allocate a fixed amount of memory for each element, leading to more efficient memory usage compared to Python lists, which can store elements of different types.\n",
        "For example, an int32 data type uses 32 bits (4 bytes) per element, while an int64 uses 64 bits (8 bytes). Choosing the appropriate data type based on the range of values in your data can save significant memory.\n",
        "\n",
        " Performance Optimization\n",
        "Vectorization - NumPy’s operations are highly optimized for performance due to the use of fixed data types. Since NumPy arrays are stored in contiguous blocks of memory, operations can be vectorized, meaning they can be applied simultaneously to all elements in the array. This is much faster than applying operations element-wise using a Python loop."
      ],
      "metadata": {
        "id": "T3T9imbKceRP"
      }
    },
    {
      "cell_type": "markdown",
      "source": [
        "5. Define ndarrays in NumPy and explain their key features. How do they differ from standard Python lists?"
      ],
      "metadata": {
        "id": "T5Rw2mJJc9QC"
      }
    },
    {
      "cell_type": "markdown",
      "source": [
        "An ndarray in NumPy is the central data structure for numerical computing in Python. It represents a multidimensional, homogeneous array of fixed-size items. Here’s a detailed explanation of ndarrays and how they differ from standard Python lists:\n",
        "\n",
        "Key Features of ndarrays in NumPy are - Homogeneity - All elements in an ndarray must be of the same data type (e.g., all integers, all floats). This homogeneity allows for more efficient memory usage and faster computations.\n",
        "\n",
        "Multidimensional - An ndarray can have any number of dimensions (1D, 2D, 3D, etc.). This flexibility makes it suitable for representing a variety of data structures, such as vectors, matrices, and tensors.\n",
        "\n",
        "Fixed Size - The size of an ndarray is determined at the time of its creation and cannot be changed. This is different from Python lists, which are dynamic in size.\n",
        "\n",
        "Efficient Memory Management - ndarrays are stored in contiguous memory blocks, which allows for efficient access and manipulation of data, particularly in operations involving large datasets\n",
        "\n",
        "Vectorized Operation,Advanced Indexing and Slicing,Interoperability with C/C++ and Fortran.\n",
        "\n",
        "Differences Between ndarrays and Python Lists are\n",
        "\n",
        "Data Type Homogeneity:\n",
        "\n",
        "Python Lists: Can contain elements of different data types (e.g., integers, floats, strings).\n",
        "\n",
        "\n",
        "ndarrays: All elements must be of the same data type, leading to more efficient memory usage.\n",
        "\n",
        "Performance:\n",
        "\n",
        "Python Lists: Iterating through and performing operations on large lists can be slow due to the overhead of dynamic typing and the lack of contiguous memory storage.\n",
        "ndarrays: Operations are much faster due to the homogeneous nature of the data and the use of contiguous memory, which allows for optimizations like vectorization."
      ],
      "metadata": {
        "id": "nnn-NtBJawAg"
      }
    },
    {
      "cell_type": "markdown",
      "source": [
        "6. Analyze the performance benefits of NumPy arrays over Python lists for large-scale numerical operations"
      ],
      "metadata": {
        "id": "aH3IW66abucC"
      }
    },
    {
      "cell_type": "markdown",
      "source": [
        "Answer - Memory Efficiency  - Contiguous Memory Allocation: NumPy arrays are stored in contiguous blocks of memory, unlike Python lists, which are arrays of pointers to objects. This contiguous allocation minimizes memory overhead and makes data access more efficient.\n",
        "\n",
        "Fixed Data Type: Since all elements in a NumPy array are of the same data type, the memory required for each element is fixed, allowing NumPy to utilize memory more efficiently.\n",
        "\n",
        "Vectorized Operations  - Element-Wise Operations: NumPy allows for vectorized operations, where a single operation is applied simultaneously to all elements in the array. This eliminates the need for explicit loops in Python, which can be slow.\n",
        "\n",
        "\n",
        "SIMD (Single Instruction, Multiple Data): Under the hood, NumPy can leverage SIMD instructions that process multiple data points in a single CPU cycle, significantly speeding up computation.\n",
        "\n",
        "Optimized C and Fortran Integration - Underlying Implementation: NumPy is implemented in C, and many of its operations are performed using highly optimized C and Fortran libraries. This means that even complex operations are executed with the efficiency of low-level languages, far outpacing Python’s native performance.\n",
        "Avoidance of Python Overheads: Since the computational work is done outside the Python interpreter, NumPy avoids the overhead associated with Python's dynamic typing and garbage collection."
      ],
      "metadata": {
        "id": "X82KVA1vb1BA"
      }
    },
    {
      "cell_type": "markdown",
      "source": [
        "7. Compare vstack() and hstack() functions in NumPy. Provide examples demonstrating their usage and\n",
        "output."
      ],
      "metadata": {
        "id": "wEMhyCVEc-Or"
      }
    },
    {
      "cell_type": "markdown",
      "source": [
        "Answer -  vstack() Function - The vstack() function stacks arrays along the vertical axis (row-wise). It essentially appends arrays on top of each other, increasing the number of rows in the resulting array.\n",
        "\n",
        "\n",
        "Axis: Stacks along the first axis (axis=0).\n",
        "Requirements: The arrays being stacked must have the same number of columns (i.e., their shapes must match in all dimensions except the first)."
      ],
      "metadata": {
        "id": "qFOc_9R9dPMJ"
      }
    },
    {
      "cell_type": "code",
      "source": [
        "import numpy as np\n",
        "\n",
        "array1 = np.array([[1, 2, 3],\n",
        "                   [4, 5, 6]])\n",
        "\n",
        "array2 = np.array([[7, 8, 9],\n",
        "                   [10, 11, 12]])\n",
        "\n",
        "result_vstack = np.vstack((array1, array2))\n",
        "\n",
        "print(\"Array 1:\")\n",
        "print(array1)\n",
        "print(\"\\nArray 2:\")\n",
        "print(array2)\n",
        "print(\"\\nResult of vstack:\")\n",
        "print(result_vstack)\n"
      ],
      "metadata": {
        "colab": {
          "base_uri": "https://localhost:8080/"
        },
        "id": "LGXplzbxdX6p",
        "outputId": "bf7e6b97-08ba-422b-e87a-8411b5844dce"
      },
      "execution_count": null,
      "outputs": [
        {
          "output_type": "stream",
          "name": "stdout",
          "text": [
            "Array 1:\n",
            "[[1 2 3]\n",
            " [4 5 6]]\n",
            "\n",
            "Array 2:\n",
            "[[ 7  8  9]\n",
            " [10 11 12]]\n",
            "\n",
            "Result of vstack:\n",
            "[[ 1  2  3]\n",
            " [ 4  5  6]\n",
            " [ 7  8  9]\n",
            " [10 11 12]]\n"
          ]
        }
      ]
    },
    {
      "cell_type": "markdown",
      "source": [
        "hstack() Function - The hstack() function stacks arrays along the horizontal axis (column-wise). It essentially appends arrays side by side, increasing the number of columns in the resulting array.\n",
        "\n",
        "\n",
        "Axis: Stacks along the second axis (axis=1).\n",
        "Requirements: The arrays being stacked must have the same number of rows (i.e., their shapes must match in all dimensions except the second)."
      ],
      "metadata": {
        "id": "Dq2qmV2DdidB"
      }
    },
    {
      "cell_type": "code",
      "source": [
        "import numpy as np\n",
        "\n",
        "array1 = np.array([[1, 2, 3],\n",
        "                   [4, 5, 6]])\n",
        "\n",
        "array2 = np.array([[7, 8, 9],\n",
        "                   [10, 11, 12]])\n",
        "\n",
        "result_hstack = np.hstack((array1, array2))\n",
        "\n",
        "print(\"Array 1:\")\n",
        "print(array1)\n",
        "print(\"\\nArray 2:\")\n",
        "print(array2)\n",
        "print(\"\\nResult of hstack:\")\n",
        "print(result_hstack)\n"
      ],
      "metadata": {
        "colab": {
          "base_uri": "https://localhost:8080/"
        },
        "id": "z6jiLlhNdosV",
        "outputId": "82b7c1e2-dd70-4ec8-b94d-f6ac1bf186de"
      },
      "execution_count": null,
      "outputs": [
        {
          "output_type": "stream",
          "name": "stdout",
          "text": [
            "Array 1:\n",
            "[[1 2 3]\n",
            " [4 5 6]]\n",
            "\n",
            "Array 2:\n",
            "[[ 7  8  9]\n",
            " [10 11 12]]\n",
            "\n",
            "Result of hstack:\n",
            "[[ 1  2  3  7  8  9]\n",
            " [ 4  5  6 10 11 12]]\n"
          ]
        }
      ]
    },
    {
      "cell_type": "markdown",
      "source": [
        "8. Explain the differences between fliplr() and flipud() methods in NumPy, including their effects on various\n",
        "array dimensions.\n",
        "\n",
        "\n"
      ],
      "metadata": {
        "id": "sPM-D9gKdzrj"
      }
    },
    {
      "cell_type": "markdown",
      "source": [
        "Answer - differences between fliplr() and flipud() methods in NumPy are\n",
        "\n",
        "fliplr() - Flips the array horizontally, reversing the order of columns.\n",
        "Only applicable to arrays with at least two dimensions.\n",
        "The number of rows remains unchanged, while the columns are flipped.\n",
        "Example: Transforms [[1, 2, 3]] to [[3, 2, 1]].\n",
        "\n",
        "\n",
        "flipud() - Flips the array vertically, reversing the order of rows.\n",
        "Applicable to arrays with at least one dimension.\n",
        "The number of columns remains unchanged, while the rows are flipped.\n",
        "Example: Transforms [[1], [2], [3]] to [[3], [2], [1]].\n",
        "\n",
        "Effects on Various Array Dimensions -\n",
        "\n",
        "\n",
        "1D Arrays - fliplr() will raise an error as it is not applicable.\n",
        "flipud() will reverse the order of elements.\n",
        "\n",
        "\n",
        "2D Arrays - fliplr() will reverse the order of columns.\n",
        "flipud() will reverse the order of rows.\n",
        "\n",
        "\n",
        "3D and Higher-Dimensional Arrays - fliplr() will reverse the order of columns in the last two dimensions.\n",
        "flipud() will reverse the order of rows in the first dimension."
      ],
      "metadata": {
        "id": "cbDP32O1eLeC"
      }
    },
    {
      "cell_type": "code",
      "source": [
        "#Example of fliplr()\n",
        "\n",
        "import numpy as np\n",
        "\n",
        "array = np.array([[1, 2, 3],\n",
        "                  [4, 5, 6],\n",
        "                  [7, 8, 9]])\n",
        "\n",
        "# Applying fliplr()\n",
        "flipped_array = np.fliplr(array)\n",
        "\n",
        "print(\"Original Array:\")\n",
        "print(array)\n",
        "print(\"\\nArray after fliplr():\")\n",
        "print(flipped_array)\n",
        "\n",
        "\n",
        "\n",
        "#Example flipud()\n",
        "import numpy as np\n",
        "\n",
        "array = np.array([[1, 2, 3],\n",
        "                  [4, 5, 6],\n",
        "                  [7, 8, 9]])\n",
        "\n",
        "# Applying flipud()\n",
        "flipped_array = np.flipud(array)\n",
        "\n",
        "print(\"Original Array:\")\n",
        "print(array)\n",
        "print(\"\\nArray after flipud():\")\n",
        "print(flipped_array)\n",
        "\n"
      ],
      "metadata": {
        "colab": {
          "base_uri": "https://localhost:8080/"
        },
        "id": "G2BApgZ8eXrT",
        "outputId": "6461133e-590b-4dd8-fd0b-f808554ba6f4"
      },
      "execution_count": null,
      "outputs": [
        {
          "output_type": "stream",
          "name": "stdout",
          "text": [
            "Original Array:\n",
            "[[1 2 3]\n",
            " [4 5 6]\n",
            " [7 8 9]]\n",
            "\n",
            "Array after fliplr():\n",
            "[[3 2 1]\n",
            " [6 5 4]\n",
            " [9 8 7]]\n",
            "Original Array:\n",
            "[[1 2 3]\n",
            " [4 5 6]\n",
            " [7 8 9]]\n",
            "\n",
            "Array after flipud():\n",
            "[[7 8 9]\n",
            " [4 5 6]\n",
            " [1 2 3]]\n"
          ]
        }
      ]
    },
    {
      "cell_type": "markdown",
      "source": [
        "9. Discuss the functionality of the array_split() method in NumPy. How does it handle uneven splits?"
      ],
      "metadata": {
        "id": "-llSdmFlfJkr"
      }
    },
    {
      "cell_type": "markdown",
      "source": [
        "Answer - The array_split() method in NumPy is used to split an array into multiple sub-arrays. It is a versatile function that can handle both even and uneven splits, making it particularly useful when the array cannot be divided evenly into the desired number of sub-arrays.\n",
        "\n",
        "array_split() can handle both even and uneven splits of an array.\n",
        "When an uneven split is required, array_split() distributes the remainder across the first few sub-arrays.\n",
        "\n",
        "\n",
        "The method is flexible and allows splitting based on the number of sections or specific indices.\n",
        "\n",
        "\n",
        "The output is always a list of sub-arrays, with sizes adjusted based on the splitting criteria."
      ],
      "metadata": {
        "id": "RfjQNKflfLv1"
      }
    },
    {
      "cell_type": "code",
      "source": [
        "import numpy as np\n",
        "\n",
        "# Creating an array\n",
        "array = np.array([1, 2, 3, 4, 5, 6])\n",
        "\n",
        "# Splitting into 3 sub-arrays (even split)\n",
        "sub_arrays = np.array_split(array, 3)\n",
        "\n",
        "print(\"Original Array:\")\n",
        "print(array)\n",
        "print(\"\\nSub-arrays after even split:\")\n",
        "for sub_array in sub_arrays:\n",
        "    print(sub_array)\n"
      ],
      "metadata": {
        "colab": {
          "base_uri": "https://localhost:8080/"
        },
        "id": "b3z_X_o0fpOA",
        "outputId": "868d43f8-2b07-4344-ea17-72bf8a7e548a"
      },
      "execution_count": null,
      "outputs": [
        {
          "output_type": "stream",
          "name": "stdout",
          "text": [
            "Original Array:\n",
            "[1 2 3 4 5 6]\n",
            "\n",
            "Sub-arrays after even split:\n",
            "[1 2]\n",
            "[3 4]\n",
            "[5 6]\n"
          ]
        }
      ]
    },
    {
      "cell_type": "code",
      "source": [
        "#uneven split\n",
        "import numpy as np\n",
        "\n",
        "# Creating an array\n",
        "array = np.array([1, 2, 3, 4, 5, 6, 7])\n",
        "\n",
        "# Splitting into 3 sub-arrays (uneven split)\n",
        "sub_arrays = np.array_split(array, 3)\n",
        "\n",
        "print(\"Original Array:\")\n",
        "print(array)\n",
        "print(\"\\nSub-arrays after uneven split:\")\n",
        "for sub_array in sub_arrays:\n",
        "    print(sub_array)\n"
      ],
      "metadata": {
        "colab": {
          "base_uri": "https://localhost:8080/"
        },
        "id": "Sy8jrJUxfwHa",
        "outputId": "95969277-f4c2-408b-c601-20bc4b47491b"
      },
      "execution_count": null,
      "outputs": [
        {
          "output_type": "stream",
          "name": "stdout",
          "text": [
            "Original Array:\n",
            "[1 2 3 4 5 6 7]\n",
            "\n",
            "Sub-arrays after uneven split:\n",
            "[1 2 3]\n",
            "[4 5]\n",
            "[6 7]\n"
          ]
        }
      ]
    },
    {
      "cell_type": "markdown",
      "source": [
        "10. Explain the concepts of vectorization and broadcasting in NumPy. How do they contribute to efficient array\n",
        "operations?"
      ],
      "metadata": {
        "id": "9N41Yzn5f8Ul"
      }
    },
    {
      "cell_type": "markdown",
      "source": [
        "Answer - Vectorization refers to the process of applying operations to entire arrays (or vectors) without the need for explicit loops. Instead of iterating over individual elements, vectorized operations apply a function to every element in an array simultaneously.\n",
        "This approach leverages low-level, highly optimized C and Fortran libraries to perform these operations, resulting in significant speed improvements over traditional Python loops.\n",
        "\n",
        "Performance: Vectorized operations are much faster than looping through array elements in pure Python because they bypass the Python interpreter and use pre-compiled, low-level code.\n",
        "Code Simplicity: Vectorization leads to more concise and readable code. Instead of writing complex loops, you can perform operations with simple expressions.\n",
        "\n",
        "Broadcasting allows NumPy to perform arithmetic operations on arrays of different shapes by \"stretching\" the smaller array along a specified dimension so that they become compatible.\n",
        "When operating on arrays, NumPy compares their shapes element-wise. It starts with the trailing dimensions and works its way backward. If dimensions are equal or one of them is 1, broadcasting is possible.\n",
        "\n",
        "Rules of Broadcasting:\n",
        "\n",
        "If the arrays do not have the same rank (number of dimensions), the shape of the smaller-rank array is padded with ones on its left side.\n",
        "If the sizes of the dimensions match or if one of them is 1, then broadcasting can proceed.\n",
        "The arrays are implicitly expanded to match each other in size.\n",
        "\n",
        "\n",
        "Contributions to Efficient Array Operations\n",
        "Performance and Speed:\n",
        "\n",
        "Vectorization and broadcasting eliminate the need for explicit loops, significantly reducing the computational overhead associated with Python's for-loops. This is particularly important when dealing with large datasets.\n",
        "\n",
        "Memory Efficiency:\n",
        "\n",
        "Broadcasting allows operations to be performed without the need to create large intermediate arrays. Instead of replicating data, broadcasting treats the smaller array as if it had the same\n"
      ],
      "metadata": {
        "id": "vDAwRQBDf9-D"
      }
    },
    {
      "cell_type": "code",
      "source": [
        "import numpy as np\n",
        "\n",
        "# Creating two arrays\n",
        "array1 = np.array([1, 2, 3, 4])\n",
        "array2 = np.array([5, 6, 7, 8])\n",
        "\n",
        "# Vectorized operation (element-wise addition)\n",
        "result = array1 + array2\n",
        "\n",
        "print(\"Result of vectorized addition:\")\n",
        "print(result)\n",
        "\n",
        "\n",
        "\n",
        "\n",
        "import numpy as np\n",
        "\n",
        "# Creating an array\n",
        "array = np.array([1, 2, 3, 4])\n",
        "\n",
        "# Broadcasting with a scalar value\n",
        "result = array + 10\n",
        "\n",
        "print(\"Result of broadcasting with scalar:\")\n",
        "print(result)\n",
        "\n"
      ],
      "metadata": {
        "colab": {
          "base_uri": "https://localhost:8080/"
        },
        "id": "VCklbGeFh-2C",
        "outputId": "b595e283-3f2a-4d78-8fc0-f15f4c246da8"
      },
      "execution_count": null,
      "outputs": [
        {
          "output_type": "stream",
          "name": "stdout",
          "text": [
            "Result of vectorized addition:\n",
            "[ 6  8 10 12]\n",
            "Result of broadcasting with scalar:\n",
            "[11 12 13 14]\n"
          ]
        }
      ]
    },
    {
      "cell_type": "markdown",
      "source": [
        "PRACTICAL QUESTIONS"
      ],
      "metadata": {
        "id": "uOM7iCBviLIB"
      }
    },
    {
      "cell_type": "markdown",
      "source": [
        "1. Create a 3x3 NumPy array with random integers between 1 and 100. Then, interchange its rows and columns."
      ],
      "metadata": {
        "id": "gDmv7KloiODS"
      }
    },
    {
      "cell_type": "code",
      "source": [
        "import numpy as np\n",
        "\n",
        "array = np.random.randint(1, 101, size=(3, 3))\n",
        "\n",
        "transposed_array = np.transpose(array)\n",
        "\n",
        "print(\"Original Array:\")\n",
        "print(array)\n",
        "\n",
        "print(\"\\nTransposed Array (Rows and Columns Interchanged):\")\n",
        "print(transposed_array)\n"
      ],
      "metadata": {
        "colab": {
          "base_uri": "https://localhost:8080/"
        },
        "id": "nJ3Lu5UiiRlT",
        "outputId": "ffd69715-de4f-43db-b960-e9ad658a2ec7"
      },
      "execution_count": null,
      "outputs": [
        {
          "output_type": "stream",
          "name": "stdout",
          "text": [
            "Original Array:\n",
            "[[73 65 77]\n",
            " [50 64 17]\n",
            " [ 5 44 18]]\n",
            "\n",
            "Transposed Array (Rows and Columns Interchanged):\n",
            "[[73 50  5]\n",
            " [65 64 44]\n",
            " [77 17 18]]\n"
          ]
        }
      ]
    },
    {
      "cell_type": "markdown",
      "source": [
        "2. Generate a 1D NumPy array with 10 elements. Reshape it into a 2x5 array, then into a 5x2 array."
      ],
      "metadata": {
        "id": "IW3qqbNuihId"
      }
    },
    {
      "cell_type": "code",
      "source": [
        "import numpy as np\n",
        "\n",
        "# Generate a 1D array with 10 elements\n",
        "array_1d = np.arange(1, 11)\n",
        "\n",
        "# Reshape the array into a 2x5 array\n",
        "array_2x5 = array_1d.reshape((2, 5))\n",
        "\n",
        "# Reshape the 2x5 array into a 5x2 array\n",
        "array_5x2 = array_2x5.reshape((5, 2))\n",
        "\n",
        "print(\"Original 1D Array:\")\n",
        "print(array_1d)\n",
        "\n",
        "print(\"\\nReshaped into 2x5 Array:\")\n",
        "print(array_2x5)\n",
        "\n",
        "print(\"\\nReshaped into 5x2 Array:\")\n",
        "print(array_5x2)\n"
      ],
      "metadata": {
        "colab": {
          "base_uri": "https://localhost:8080/"
        },
        "id": "LfwxmsJCii3j",
        "outputId": "ea2fc14c-739c-40c0-f2ee-9053407c9587"
      },
      "execution_count": null,
      "outputs": [
        {
          "output_type": "stream",
          "name": "stdout",
          "text": [
            "Original 1D Array:\n",
            "[ 1  2  3  4  5  6  7  8  9 10]\n",
            "\n",
            "Reshaped into 2x5 Array:\n",
            "[[ 1  2  3  4  5]\n",
            " [ 6  7  8  9 10]]\n",
            "\n",
            "Reshaped into 5x2 Array:\n",
            "[[ 1  2]\n",
            " [ 3  4]\n",
            " [ 5  6]\n",
            " [ 7  8]\n",
            " [ 9 10]]\n"
          ]
        }
      ]
    },
    {
      "cell_type": "markdown",
      "source": [
        "3. Create a 4x4 NumPy array with random float values. Add a border of zeros around it, resulting in a 6x6 array."
      ],
      "metadata": {
        "id": "kqff3wBDjRQQ"
      }
    },
    {
      "cell_type": "code",
      "source": [
        "import numpy as np\n",
        "\n",
        "# 4x4 array with random float values\n",
        "array_4x4 = np.random.rand(4, 4)\n",
        "\n",
        "# Add a border of zeros around the array, resulting in a 6x6 array\n",
        "array_6x6 = np.pad(array_4x4, pad_width=1, mode='constant', constant_values=0)\n",
        "\n",
        "print(\"Original 4x4 Array:\")\n",
        "print(array_4x4)\n",
        "\n",
        "print(\"\\n6x6 Array with Zero Border:\")\n",
        "print(array_6x6)\n"
      ],
      "metadata": {
        "colab": {
          "base_uri": "https://localhost:8080/"
        },
        "id": "a86geGiojSUV",
        "outputId": "1475e42e-6a43-4369-a3b4-cf48033f96f8"
      },
      "execution_count": null,
      "outputs": [
        {
          "output_type": "stream",
          "name": "stdout",
          "text": [
            "Original 4x4 Array:\n",
            "[[0.47937559 0.54303535 0.56546041 0.51119577]\n",
            " [0.24991475 0.38039743 0.06561386 0.50092908]\n",
            " [0.06188333 0.81589247 0.2659624  0.18137275]\n",
            " [0.35551966 0.08788322 0.77766755 0.25858102]]\n",
            "\n",
            "6x6 Array with Zero Border:\n",
            "[[0.         0.         0.         0.         0.         0.        ]\n",
            " [0.         0.47937559 0.54303535 0.56546041 0.51119577 0.        ]\n",
            " [0.         0.24991475 0.38039743 0.06561386 0.50092908 0.        ]\n",
            " [0.         0.06188333 0.81589247 0.2659624  0.18137275 0.        ]\n",
            " [0.         0.35551966 0.08788322 0.77766755 0.25858102 0.        ]\n",
            " [0.         0.         0.         0.         0.         0.        ]]\n"
          ]
        }
      ]
    },
    {
      "cell_type": "markdown",
      "source": [
        "4. Using NumPy, create an array of integers from 10 to 60 with a step of 5."
      ],
      "metadata": {
        "id": "5ce5zvo3jo3_"
      }
    },
    {
      "cell_type": "code",
      "source": [
        "import numpy as np\n",
        "\n",
        "array = np.arange(10, 60, 5)\n",
        "print(array)\n"
      ],
      "metadata": {
        "id": "nzGftWXzjqaO",
        "colab": {
          "base_uri": "https://localhost:8080/"
        },
        "outputId": "840692d6-a114-417f-b671-29b18eb54b79"
      },
      "execution_count": 1,
      "outputs": [
        {
          "output_type": "stream",
          "name": "stdout",
          "text": [
            "[10 15 20 25 30 35 40 45 50 55]\n"
          ]
        }
      ]
    },
    {
      "cell_type": "markdown",
      "source": [
        "5. Create a NumPy array of strings ['python', 'numpy', 'pandas']. Apply different case transformations\n",
        "(uppercase, lowercase, title case, etc.) to each element."
      ],
      "metadata": {
        "id": "y3HNek5stnOb"
      }
    },
    {
      "cell_type": "code",
      "source": [
        "import numpy as np\n",
        "\n",
        "# array of strings\n",
        "array = np.array(['python', 'numpy', 'pandas'])\n",
        "\n",
        "uppercase_array = np.char.upper(array)\n",
        "lowercase_array = np.char.lower(array)\n",
        "titlecase_array = np.char.title(array)\n",
        "capitalize_array = np.char.capitalize(array)\n",
        "\n",
        "print(\"Original array:\", array)\n",
        "print(\"Uppercase:\", uppercase_array)\n",
        "print(\"Lowercase:\", lowercase_array)\n",
        "print(\"Title case:\", titlecase_array)\n",
        "print(\"Capitalize:\", capitalize_array)\n"
      ],
      "metadata": {
        "colab": {
          "base_uri": "https://localhost:8080/"
        },
        "id": "NZFWV_m7tyNm",
        "outputId": "edac1751-7e63-44c1-cfb7-f0b34589c9c4"
      },
      "execution_count": 2,
      "outputs": [
        {
          "output_type": "stream",
          "name": "stdout",
          "text": [
            "Original array: ['python' 'numpy' 'pandas']\n",
            "Uppercase: ['PYTHON' 'NUMPY' 'PANDAS']\n",
            "Lowercase: ['python' 'numpy' 'pandas']\n",
            "Title case: ['Python' 'Numpy' 'Pandas']\n",
            "Capitalize: ['Python' 'Numpy' 'Pandas']\n"
          ]
        }
      ]
    },
    {
      "cell_type": "markdown",
      "source": [
        "6. Generate a NumPy array of words. Insert a space between each character of every word in the array."
      ],
      "metadata": {
        "id": "aAZ9U8jkuJfG"
      }
    },
    {
      "cell_type": "code",
      "source": [
        "import numpy as np\n",
        "\n",
        "# array of words\n",
        "words_array = np.array(['python', 'numpy', 'pandas'])\n",
        "\n",
        "space = np.char.join(' ', words_array)\n",
        "\n",
        "print(space)\n"
      ],
      "metadata": {
        "colab": {
          "base_uri": "https://localhost:8080/"
        },
        "id": "ew8FShePuKI-",
        "outputId": "43e4c71b-8d5f-4aef-dd87-e8427109c447"
      },
      "execution_count": 4,
      "outputs": [
        {
          "output_type": "stream",
          "name": "stdout",
          "text": [
            "['p y t h o n' 'n u m p y' 'p a n d a s']\n"
          ]
        }
      ]
    },
    {
      "cell_type": "markdown",
      "source": [
        "7. Create two 2D NumPy arrays and perform element-wise addition, subtraction, multiplication, and division.\n",
        "\n",
        "\n"
      ],
      "metadata": {
        "id": "XsfkBpWPulzq"
      }
    },
    {
      "cell_type": "code",
      "source": [
        "import numpy as np\n",
        "\n",
        "# Create two 2D arrays\n",
        "array1 = np.array([[1, 2, 3], [4, 5, 6]])\n",
        "array2 = np.array([[7, 8, 9], [10, 11, 12]])\n",
        "\n",
        "# addition\n",
        "addition = np.add(array1, array2)\n",
        "\n",
        "# subtraction\n",
        "subtraction = np.subtract(array1, array2)\n",
        "\n",
        "# multiplication\n",
        "multiplication = np.multiply(array1, array2)\n",
        "\n",
        "# division\n",
        "division = np.divide(array1, array2)\n",
        "\n",
        "# Print the results\n",
        "print(\"Array 1:\\n\", array1)\n",
        "print(\"Array 2:\\n\", array2)\n",
        "print(\"\\nElement-wise addition:\\n\", addition)\n",
        "print(\"\\nElement-wise subtraction:\\n\", subtraction)\n",
        "print(\"\\nElement-wise multiplication:\\n\", multiplication)\n",
        "print(\"\\nElement-wise division:\\n\", division)\n"
      ],
      "metadata": {
        "colab": {
          "base_uri": "https://localhost:8080/"
        },
        "id": "YzICqqRvumZT",
        "outputId": "d05f4313-7eac-455f-dfbd-2b6d13ebff20"
      },
      "execution_count": 5,
      "outputs": [
        {
          "output_type": "stream",
          "name": "stdout",
          "text": [
            "Array 1:\n",
            " [[1 2 3]\n",
            " [4 5 6]]\n",
            "Array 2:\n",
            " [[ 7  8  9]\n",
            " [10 11 12]]\n",
            "\n",
            "Element-wise addition:\n",
            " [[ 8 10 12]\n",
            " [14 16 18]]\n",
            "\n",
            "Element-wise subtraction:\n",
            " [[-6 -6 -6]\n",
            " [-6 -6 -6]]\n",
            "\n",
            "Element-wise multiplication:\n",
            " [[ 7 16 27]\n",
            " [40 55 72]]\n",
            "\n",
            "Element-wise division:\n",
            " [[0.14285714 0.25       0.33333333]\n",
            " [0.4        0.45454545 0.5       ]]\n"
          ]
        }
      ]
    },
    {
      "cell_type": "markdown",
      "source": [
        "8. Use NumPy to create a 5x5 identity matrix, then extract its diagonal elements"
      ],
      "metadata": {
        "id": "amQ3oQu_wZa5"
      }
    },
    {
      "cell_type": "code",
      "source": [
        "import numpy as np\n",
        "\n",
        "# 5x5 identity matrix\n",
        "identity_matrix = np.eye(5)\n",
        "\n",
        "diagonal_elements = np.diag(identity_matrix)\n",
        "\n",
        "print(\"5x5 Identity Matrix:\\n\", identity_matrix)\n",
        "print(\"\\nDiagonal Elements:\", diagonal_elements)\n"
      ],
      "metadata": {
        "colab": {
          "base_uri": "https://localhost:8080/"
        },
        "id": "yct7K0s_wdDN",
        "outputId": "90529012-e999-4b9e-c104-aa421e2a5d70"
      },
      "execution_count": 6,
      "outputs": [
        {
          "output_type": "stream",
          "name": "stdout",
          "text": [
            "5x5 Identity Matrix:\n",
            " [[1. 0. 0. 0. 0.]\n",
            " [0. 1. 0. 0. 0.]\n",
            " [0. 0. 1. 0. 0.]\n",
            " [0. 0. 0. 1. 0.]\n",
            " [0. 0. 0. 0. 1.]]\n",
            "\n",
            "Diagonal Elements: [1. 1. 1. 1. 1.]\n"
          ]
        }
      ]
    },
    {
      "cell_type": "markdown",
      "source": [
        "9. Generate a NumPy array of 100 random integers between 0 and 1000. Find and display all prime numbers in\n",
        "this array."
      ],
      "metadata": {
        "id": "1eoe_17kwzMu"
      }
    },
    {
      "cell_type": "code",
      "source": [
        "import numpy as np\n",
        "\n",
        "# check if a number is prime\n",
        "def is_prime(num):\n",
        "    if num < 2:\n",
        "        return False\n",
        "    for i in range(2, int(np.sqrt(num)) + 1):\n",
        "        if num % i == 0:\n",
        "            return False\n",
        "    return True\n",
        "\n",
        "random_array = np.random.randint(0, 1000, 100)\n",
        "\n",
        "prime_numbers = np.array([num for num in random_array if is_prime(num)])\n",
        "\n",
        "print(\"Random Array:\\n\", random_array)\n",
        "print(\"\\nPrime Numbers:\\n\", prime_numbers)\n"
      ],
      "metadata": {
        "colab": {
          "base_uri": "https://localhost:8080/"
        },
        "id": "_vy6MDWJwzzg",
        "outputId": "101ff64d-7ce6-46ff-e16d-e08bdb06359d"
      },
      "execution_count": 7,
      "outputs": [
        {
          "output_type": "stream",
          "name": "stdout",
          "text": [
            "Random Array:\n",
            " [916 853 485 254 259 745 769 633 775 887 302  28 791 144 151 743 598 603\n",
            " 912 545 884 842 334 936 704 594  66 493  69 657 599 632  87 516 767 830\n",
            " 442 923 296  68 308 951 992 755 986 937 342  74 242 820 162 279 326 835\n",
            " 496 128 422 364  87 107 359  38 348 468 155 335 107 102 879 221 125 682\n",
            " 346 340 644 312 140  23 507 818 200 736 758  16 876 826 268 355 604 496\n",
            " 180 466 445 587 179 410 961 331 323 929]\n",
            "\n",
            "Prime Numbers:\n",
            " [853 769 887 151 743 599 937 107 359 107  23 587 179 331 929]\n"
          ]
        }
      ]
    },
    {
      "cell_type": "markdown",
      "source": [
        "10. Create a NumPy array representing daily temperatures for a month. Calculate and display the weekly\n",
        "averages."
      ],
      "metadata": {
        "id": "DTT9dTKlxRDf"
      }
    },
    {
      "cell_type": "code",
      "source": [
        "import numpy as np\n",
        "\n",
        "daily_temperatures = np.random.randint(15, 35, 30)\n",
        "\n",
        "weekly_temperatures = daily_temperatures[:28].reshape(4, 7)\n",
        "remaining_days = daily_temperatures[28:]\n",
        "\n",
        "weekly_averages = weekly_temperatures.mean(axis=1)\n",
        "\n",
        "print(\"Daily Temperatures:\\n\", daily_temperatures)\n",
        "print(\"\\nWeekly Temperatures (reshaped):\\n\", weekly_temperatures)\n",
        "print(\"\\nWeekly Averages:\\n\", weekly_averages)\n",
        "\n",
        "if remaining_days.size > 0:\n",
        "    remaining_average = remaining_days.mean()\n",
        "    print(\"\\nRemaining Days Temperatures:\", remaining_days)\n",
        "    print(\"Average for Remaining Days:\", remaining_average)\n"
      ],
      "metadata": {
        "colab": {
          "base_uri": "https://localhost:8080/"
        },
        "id": "6NuZqVi-xUWs",
        "outputId": "e28b48ad-d2d9-4655-b68c-2dca6a48de41"
      },
      "execution_count": 11,
      "outputs": [
        {
          "output_type": "stream",
          "name": "stdout",
          "text": [
            "Daily Temperatures:\n",
            " [28 34 21 20 16 30 17 32 26 27 17 32 28 33 22 19 22 31 30 26 23 24 17 15\n",
            " 17 31 21 31 15 32]\n",
            "\n",
            "Weekly Temperatures (reshaped):\n",
            " [[28 34 21 20 16 30 17]\n",
            " [32 26 27 17 32 28 33]\n",
            " [22 19 22 31 30 26 23]\n",
            " [24 17 15 17 31 21 31]]\n",
            "\n",
            "Weekly Averages:\n",
            " [23.71428571 27.85714286 24.71428571 22.28571429]\n",
            "\n",
            "Remaining Days Temperatures: [15 32]\n",
            "Average for Remaining Days: 23.5\n"
          ]
        }
      ]
    },
    {
      "cell_type": "code",
      "source": [],
      "metadata": {
        "id": "4isnObDvyh0W"
      },
      "execution_count": null,
      "outputs": []
    }
  ]
}